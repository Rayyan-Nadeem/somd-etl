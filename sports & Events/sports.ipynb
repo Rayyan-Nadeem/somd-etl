{
 "cells": [
  {
   "cell_type": "code",
   "execution_count": 3,
   "id": "7fe1f02b",
   "metadata": {},
   "outputs": [
    {
     "name": "stdout",
     "output_type": "stream",
     "text": [
      "Sport with athleteId 460: {'sportId': 'CYC2004', 'sportName': 'Cycling - 2004', 'season': 'Fall', 'startDate': '08/01/2004', 'endDate': '08/31/2004', 'athletes': [{'athleteId': '460'}], 'volunteers': []}\n",
      "Filtered data written to filtered_sports_with_athlete_480.csv\n"
     ]
    }
   ],
   "source": [
    "import json\n",
    "import csv\n",
    "\n",
    "# Load the JSON data\n",
    "with open('sports.json', 'r') as file:\n",
    "    sports_data = json.load(file)\n",
    "\n",
    "# Find the sport with athleteId 460\n",
    "sport_with_athlete_460 = next((sport for sport in sports_data if any(athlete['athleteId'] == '460' for athlete in sport.get('athletes', []))), None)\n",
    "\n",
    "# Display the result\n",
    "if sport_with_athlete_460:\n",
    "    print(\"Sport with athleteId 460:\", sport_with_athlete_460)\n",
    "else:\n",
    "    print(\"No sport found with athleteId 460.\")\n",
    "\n",
    "# Filter data for athlete ID 480\n",
    "filtered_data = [row for row in csv_data if row['Athlete ID'] == '480']\n",
    "\n",
    "# Write filtered data to a new CSV\n",
    "filtered_csv_file_path = 'filtered_sports_with_athlete_480.csv'\n",
    "with open(filtered_csv_file_path, 'w', newline='') as csvfile:\n",
    "    fieldnames = ['Sport', 'Athlete ID']\n",
    "    writer = csv.DictWriter(csvfile, fieldnames=fieldnames)\n",
    "\n",
    "    writer.writeheader()\n",
    "    writer.writerows(filtered_data)\n",
    "\n",
    "print(f\"Filtered data written to {filtered_csv_file_path}\")"
   ]
  }
 ],
 "metadata": {
  "kernelspec": {
   "display_name": ".venv",
   "language": "python",
   "name": "python3"
  },
  "language_info": {
   "codemirror_mode": {
    "name": "ipython",
    "version": 3
   },
   "file_extension": ".py",
   "mimetype": "text/x-python",
   "name": "python",
   "nbconvert_exporter": "python",
   "pygments_lexer": "ipython3",
   "version": "3.13.6"
  }
 },
 "nbformat": 4,
 "nbformat_minor": 5
}
