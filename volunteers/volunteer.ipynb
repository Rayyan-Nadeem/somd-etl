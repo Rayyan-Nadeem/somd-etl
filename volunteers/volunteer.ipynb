{
 "cells": [
  {
   "cell_type": "code",
   "execution_count": 1,
   "id": "28abcec8",
   "metadata": {},
   "outputs": [],
   "source": [
    "import pandas as pd"
   ]
  },
  {
   "cell_type": "code",
   "execution_count": 2,
   "id": "9f07e4bb",
   "metadata": {},
   "outputs": [
    {
     "name": "stdout",
     "output_type": "stream",
     "text": [
      "   VolId  Current  OneDayEvent LastContact AttendedOrientation      Last  \\\n",
      "0   1970     True        False    4/8/2017            4/7/2014         +   \n",
      "1   2400     True        False    1/2/2027           4/21/2016    Abrams   \n",
      "2   2957     True        False  10/13/2025           12/1/2022    Abrams   \n",
      "3   3075     True        False   8/29/2027           9/17/2024  Abramson   \n",
      "4   1532     True        False  10/23/2014          10/23/2011    Ackley   \n",
      "\n",
      "           First                     Street       City State  ...  \\\n",
      "0          Carla  7001 Glorious Light Place   Columbia    MD  ...   \n",
      "1  Alex Courtney       5299 Grovemont Drive   Elkridge    MD  ...   \n",
      "2         Deneen          5299 Grovemont Dr   Elkridge    MD  ...   \n",
      "3          David  2420 Fleet Street, Apt. 2  Baltimore    MD  ...   \n",
      "4           Lisa         9103 Bryant Avenue     Laurel    MD  ...   \n",
      "\n",
      "  PublicRelations CoAdmin                        Comments  \\\n",
      "0           False   False                             NaN   \n",
      "1           False   False                             NaN   \n",
      "2           False   False                             NaN   \n",
      "3           False   False                             NaN   \n",
      "4           False   False  parent of athlete Wesley Baker   \n",
      "\n",
      "                         EMail ApplicationDate  LastVolDate  LastVolEvent  \\\n",
      "0        royalty2001@yahoo.com        4/7/2014          NaN           NaN   \n",
      "1      alexabrams416@gmail.com       4/21/2016    6/15/2018           NaN   \n",
      "2    deeabrams090196@gmail.com      10/13/2022          NaN           NaN   \n",
      "3  david.s.abramson2@gmail.com       9/17/2024          NaN           NaN   \n",
      "4      lisaackley1@comcast.net       12/7/2008          NaN           NaN   \n",
      "\n",
      "   Classification                                    GeneralComments  \\\n",
      "0             NaN                                                NaN   \n",
      "1             NaN                                                NaN   \n",
      "2             NaN                                                NaN   \n",
      "3             NaN                                                NaN   \n",
      "4          Either  on-line protective behavior 11/28/08          ...   \n",
      "\n",
      "   PBC Expir Date  \n",
      "0             NaN  \n",
      "1       02-Jan-27  \n",
      "2       13-Oct-25  \n",
      "3       29-Aug-27  \n",
      "4             NaN  \n",
      "\n",
      "[5 rows x 32 columns]\n"
     ]
    }
   ],
   "source": [
    "volunteer_df = pd.read_csv('volunteers.csv', encoding='latin1')\n",
    "print(volunteer_df.head())"
   ]
  },
  {
   "cell_type": "code",
   "execution_count": 3,
   "id": "38d16f9e",
   "metadata": {},
   "outputs": [
    {
     "name": "stdout",
     "output_type": "stream",
     "text": [
      "   VolId  Current  OneDayEvent LastContact AttendedOrientation      Last  \\\n",
      "0   1970     True        False    4/8/2017            4/7/2014         +   \n",
      "1   2400     True        False    1/2/2027           4/21/2016    Abrams   \n",
      "2   2957     True        False  10/13/2025           12/1/2022    Abrams   \n",
      "3   3075     True        False   8/29/2027           9/17/2024  Abramson   \n",
      "4   1532     True        False  10/23/2014          10/23/2011    Ackley   \n",
      "\n",
      "           First                     Street       City State  ... CoAdmin  \\\n",
      "0          Carla  7001 Glorious Light Place   Columbia    MD  ...   False   \n",
      "1  Alex Courtney       5299 Grovemont Drive   Elkridge    MD  ...   False   \n",
      "2         Deneen          5299 Grovemont Dr   Elkridge    MD  ...   False   \n",
      "3          David  2420 Fleet Street, Apt. 2  Baltimore    MD  ...   False   \n",
      "4           Lisa         9103 Bryant Avenue     Laurel    MD  ...   False   \n",
      "\n",
      "                         Comments                        EMail  \\\n",
      "0                             NaN        royalty2001@yahoo.com   \n",
      "1                             NaN      alexabrams416@gmail.com   \n",
      "2                             NaN    deeabrams090196@gmail.com   \n",
      "3                             NaN  david.s.abramson2@gmail.com   \n",
      "4  parent of athlete Wesley Baker      lisaackley1@comcast.net   \n",
      "\n",
      "  ApplicationDate LastVolDate  LastVolEvent  Classification  \\\n",
      "0        4/7/2014         NaN           NaN             NaN   \n",
      "1       4/21/2016   6/15/2018           NaN             NaN   \n",
      "2      10/13/2022         NaN           NaN             NaN   \n",
      "3       9/17/2024         NaN           NaN             NaN   \n",
      "4       12/7/2008         NaN           NaN          Either   \n",
      "\n",
      "                                     GeneralComments  PBC Expir Date  \\\n",
      "0                                                NaN             NaN   \n",
      "1                                                NaN       02-Jan-27   \n",
      "2                                                NaN       13-Oct-25   \n",
      "3                                                NaN       29-Aug-27   \n",
      "4  on-line protective behavior 11/28/08          ...             NaN   \n",
      "\n",
      "                   name  \n",
      "0               Carla +  \n",
      "1  Alex Courtney Abrams  \n",
      "2         Deneen Abrams  \n",
      "3        David Abramson  \n",
      "4           Lisa Ackley  \n",
      "\n",
      "[5 rows x 33 columns]\n"
     ]
    }
   ],
   "source": [
    "# Normalize names: create 'name' by combining 'First' and 'Last', then capitalize\n",
    "volunteer_df['name'] = volunteer_df['First'].fillna('') + ' ' + volunteer_df['Last'].fillna('')\n",
    "volunteer_df['First'] = volunteer_df['First'].str.title().fillna('')\n",
    "volunteer_df['Last'] = volunteer_df['Last'].str.title().fillna('')\n",
    "volunteer_df['name'] = volunteer_df['First'] + ' ' + volunteer_df['Last']\n",
    "print(volunteer_df.head())"
   ]
  },
  {
   "cell_type": "code",
   "execution_count": 4,
   "id": "56dc8025",
   "metadata": {},
   "outputs": [
    {
     "name": "stdout",
     "output_type": "stream",
     "text": [
      "                         email\n",
      "0        royalty2001@yahoo.com\n",
      "1      alexabrams416@gmail.com\n",
      "2    deeabrams090196@gmail.com\n",
      "3  david.s.abramson2@gmail.com\n",
      "4      lisaackley1@comcast.net\n"
     ]
    }
   ],
   "source": [
    "# Normalize email addresses: convert to lowercase\n",
    "volunteer_df.rename(columns={'EMail': 'email'}, inplace=True)\n",
    "volunteer_df['email'] = volunteer_df['email'].str.lower().fillna('N/A')\n",
    "print(volunteer_df[['email']].head())"
   ]
  },
  {
   "cell_type": "code",
   "execution_count": null,
   "id": "222e02ce",
   "metadata": {},
   "outputs": [],
   "source": []
  },
  {
   "cell_type": "code",
   "execution_count": 5,
   "id": "2f4c72b4",
   "metadata": {},
   "outputs": [
    {
     "name": "stdout",
     "output_type": "stream",
     "text": [
      "    HomePhone WorkPhone   CellPhone\n",
      "0         N/A       N/A  4109782947\n",
      "1  4107885455       N/A         N/A\n",
      "2         N/A       N/A  3012573260\n",
      "3         N/A       N/A  4104586594\n",
      "4         N/A       N/A  4434749656\n"
     ]
    }
   ],
   "source": [
    "# Normalize phone numbers: remove non-numeric characters\n",
    "def normalize_phone(phone):\n",
    "    if pd.isna(phone):\n",
    "        return 'N/A'\n",
    "    return ''.join(filter(str.isdigit, str(phone)))\n",
    "\n",
    "volunteer_df['HomePhone'] = volunteer_df['HomePhone'].apply(normalize_phone)\n",
    "volunteer_df['WorkPhone'] = volunteer_df['WorkPhone'].apply(normalize_phone)\n",
    "volunteer_df['CellPhone'] = volunteer_df['CellPhone'].apply(normalize_phone)\n",
    "print(volunteer_df[['HomePhone', 'WorkPhone', 'CellPhone']].head())"
   ]
  },
  {
   "cell_type": "code",
   "execution_count": 6,
   "id": "0bccee63",
   "metadata": {},
   "outputs": [
    {
     "name": "stdout",
     "output_type": "stream",
     "text": [
      "  primary_phone secondary_phone\n",
      "0    4109782947             N/A\n",
      "1    4107885455             N/A\n",
      "2    3012573260             N/A\n",
      "3    4104586594             N/A\n",
      "4    4434749656             N/A\n"
     ]
    }
   ],
   "source": [
    "# Prioritize phone numbers: home and cell first, work last\n",
    "def prioritize_phones(row):\n",
    "    phones = [row['HomePhone'], row['CellPhone'], row['WorkPhone']]\n",
    "    phones = [phone for phone in phones if phone != 'N/A']\n",
    "    return phones[0] if len(phones) > 0 else 'N/A', phones[1] if len(phones) > 1 else 'N/A'\n",
    "\n",
    "volunteer_df[['primary_phone', 'secondary_phone']] = volunteer_df.apply(prioritize_phones, axis=1, result_type='expand')\n",
    "\n",
    "# Remove old phone number columns\n",
    "volunteer_df.drop(columns=['HomePhone', 'WorkPhone', 'CellPhone'], inplace=True)\n",
    "\n",
    "print(volunteer_df[['primary_phone', 'secondary_phone']].head())"
   ]
  },
  {
   "cell_type": "code",
   "execution_count": 7,
   "id": "b982ac60",
   "metadata": {},
   "outputs": [
    {
     "name": "stdout",
     "output_type": "stream",
     "text": [
      "   Active\n",
      "0    True\n",
      "1    True\n",
      "2    True\n",
      "3    True\n",
      "4    True\n"
     ]
    }
   ],
   "source": [
    "# Rename 'Current' to 'Active' and ensure it's boolean\n",
    "volunteer_df = volunteer_df.rename(columns={'Current': 'Active'})\n",
    "volunteer_df['Active'] = volunteer_df['Active'].astype(bool)\n",
    "print(volunteer_df[['Active']].head())"
   ]
  },
  {
   "cell_type": "code",
   "execution_count": 8,
   "id": "b7623ca4",
   "metadata": {},
   "outputs": [
    {
     "name": "stdout",
     "output_type": "stream",
     "text": [
      "  dateOfBirth\n",
      "0  10/25/1964\n",
      "1  04/16/2000\n",
      "2  02/05/1965\n",
      "3  08/30/1989\n",
      "4  02/19/1959\n"
     ]
    }
   ],
   "source": [
    "# Fix 'dateOfBirth' to handle years correctly\n",
    "volunteer_df.rename(columns={'Birthdate': 'dateOfBirth'}, inplace=True)\n",
    "\n",
    "# Convert 'dateOfBirth' to datetime\n",
    "volunteer_df['dateOfBirth'] = pd.to_datetime(volunteer_df['dateOfBirth'], errors='coerce', format='%d-%b-%y')\n",
    "\n",
    "# Adjust years between 20-99 to 19XX\n",
    "def fix_year(date):\n",
    "    if pd.isna(date):\n",
    "        return None\n",
    "    if date.year > 2020:  # Adjust years above 2020 to 19XX\n",
    "        return date.replace(year=date.year - 100)\n",
    "    return date\n",
    "\n",
    "volunteer_df['dateOfBirth'] = volunteer_df['dateOfBirth'].apply(lambda x: fix_year(pd.to_datetime(x, errors='coerce')))\n",
    "\n",
    "# Format 'dateOfBirth' to MM/DD/YYYY\n",
    "volunteer_df['dateOfBirth'] = volunteer_df['dateOfBirth'].dt.strftime('%m/%d/%Y')\n",
    "print(volunteer_df[['dateOfBirth']].head())"
   ]
  },
  {
   "cell_type": "code",
   "execution_count": 9,
   "id": "174bbea1",
   "metadata": {},
   "outputs": [
    {
     "name": "stdout",
     "output_type": "stream",
     "text": [
      "  LastContact AttendedOrientation ApplicationDate LastVolDate\n",
      "0  2017-04-08          2014-04-07      2014-04-07         NaT\n",
      "1  2027-01-02          2016-04-21      2016-04-21  2018-06-15\n",
      "2  2025-10-13          2022-12-01      2022-10-13         NaT\n",
      "3  2027-08-29          2024-09-17      2024-09-17         NaT\n",
      "4  2014-10-23          2011-10-23      2008-12-07         NaT\n"
     ]
    }
   ],
   "source": [
    "# Convert 'LastContact', 'AttendedOrientation', 'ApplicationDate', and 'LastVolDate' to datetime\n",
    "volunteer_df['LastContact'] = pd.to_datetime(volunteer_df['LastContact'], errors='coerce')\n",
    "volunteer_df['AttendedOrientation'] = pd.to_datetime(volunteer_df['AttendedOrientation'], errors='coerce')\n",
    "volunteer_df['ApplicationDate'] = pd.to_datetime(volunteer_df['ApplicationDate'], errors='coerce')\n",
    "volunteer_df['LastVolDate'] = pd.to_datetime(volunteer_df['LastVolDate'], errors='coerce')\n",
    "\n",
    "print(volunteer_df[['LastContact', 'AttendedOrientation', 'ApplicationDate', 'LastVolDate']].head())"
   ]
  },
  {
   "cell_type": "code",
   "execution_count": 10,
   "id": "0918f235",
   "metadata": {},
   "outputs": [
    {
     "name": "stdout",
     "output_type": "stream",
     "text": [
      "   VolId  Active  OneDayEvent LastContact AttendedOrientation      Last  \\\n",
      "0   1970    True        False  2017-04-08          2014-04-07         +   \n",
      "1   2400    True        False  2027-01-02          2016-04-21    Abrams   \n",
      "2   2957    True        False  2025-10-13          2022-12-01    Abrams   \n",
      "3   3075    True        False  2027-08-29          2024-09-17  Abramson   \n",
      "4   1532    True        False  2014-10-23          2011-10-23    Ackley   \n",
      "\n",
      "           First                     Street       City State  ...  \\\n",
      "0          Carla  7001 Glorious Light Place   Columbia    MD  ...   \n",
      "1  Alex Courtney       5299 Grovemont Drive   Elkridge    MD  ...   \n",
      "2         Deneen          5299 Grovemont Dr   Elkridge    MD  ...   \n",
      "3          David  2420 Fleet Street, Apt. 2  Baltimore    MD  ...   \n",
      "4           Lisa         9103 Bryant Avenue     Laurel    MD  ...   \n",
      "\n",
      "                         email ApplicationDate LastVolDate LastVolEvent  \\\n",
      "0        royalty2001@yahoo.com      2014-04-07         NaT          NaN   \n",
      "1      alexabrams416@gmail.com      2016-04-21  2018-06-15          NaN   \n",
      "2    deeabrams090196@gmail.com      2022-10-13         NaT          NaN   \n",
      "3  david.s.abramson2@gmail.com      2024-09-17         NaT          NaN   \n",
      "4      lisaackley1@comcast.net      2008-12-07         NaT          NaN   \n",
      "\n",
      "  Classification                                    GeneralComments  \\\n",
      "0            NaN                                                NaN   \n",
      "1            NaN                                                NaN   \n",
      "2            NaN                                                NaN   \n",
      "3            NaN                                                NaN   \n",
      "4         Either  on-line protective behavior 11/28/08          ...   \n",
      "\n",
      "  PBC Expir Date                  name primary_phone secondary_phone  \n",
      "0            NaN               Carla +    4109782947             N/A  \n",
      "1      02-Jan-27  Alex Courtney Abrams    4107885455             N/A  \n",
      "2      13-Oct-25         Deneen Abrams    3012573260             N/A  \n",
      "3      29-Aug-27        David Abramson    4104586594             N/A  \n",
      "4            NaN           Lisa Ackley    4434749656             N/A  \n",
      "\n",
      "[5 rows x 23 columns]\n"
     ]
    }
   ],
   "source": [
    "volunteer_df.drop(columns=['Competitions', 'Guide', 'Fundraising', 'Coach', 'Office', 'SportsMgmt', 'Medical', 'PublicRelations', 'CoAdmin'], inplace=True)\n",
    "print(volunteer_df.head())"
   ]
  },
  {
   "cell_type": "code",
   "execution_count": 11,
   "id": "452d0c2e",
   "metadata": {},
   "outputs": [
    {
     "name": "stdout",
     "output_type": "stream",
     "text": [
      "     id  Active  OneDayEvent LastContact AttendedOrientation      Last  \\\n",
      "0  1970    True        False  2017-04-08          2014-04-07         +   \n",
      "1  2400    True        False  2027-01-02          2016-04-21    Abrams   \n",
      "2  2957    True        False  2025-10-13          2022-12-01    Abrams   \n",
      "3  3075    True        False  2027-08-29          2024-09-17  Abramson   \n",
      "4  1532    True        False  2014-10-23          2011-10-23    Ackley   \n",
      "\n",
      "           First                     Street       City State  ...  \\\n",
      "0          Carla  7001 Glorious Light Place   Columbia    MD  ...   \n",
      "1  Alex Courtney       5299 Grovemont Drive   Elkridge    MD  ...   \n",
      "2         Deneen          5299 Grovemont Dr   Elkridge    MD  ...   \n",
      "3          David  2420 Fleet Street, Apt. 2  Baltimore    MD  ...   \n",
      "4           Lisa         9103 Bryant Avenue     Laurel    MD  ...   \n",
      "\n",
      "                         email ApplicationDate LastVolDate LastVolEvent  \\\n",
      "0        royalty2001@yahoo.com      2014-04-07         NaT          NaN   \n",
      "1      alexabrams416@gmail.com      2016-04-21  2018-06-15          NaN   \n",
      "2    deeabrams090196@gmail.com      2022-10-13         NaT          NaN   \n",
      "3  david.s.abramson2@gmail.com      2024-09-17         NaT          NaN   \n",
      "4      lisaackley1@comcast.net      2008-12-07         NaT          NaN   \n",
      "\n",
      "  Classification                                    GeneralComments  \\\n",
      "0            NaN                                                NaN   \n",
      "1            NaN                                                NaN   \n",
      "2            NaN                                                NaN   \n",
      "3            NaN                                                NaN   \n",
      "4         Either  on-line protective behavior 11/28/08          ...   \n",
      "\n",
      "  PBC Expir Date                  name primary_phone secondary_phone  \n",
      "0            NaN               Carla +    4109782947             N/A  \n",
      "1      02-Jan-27  Alex Courtney Abrams    4107885455             N/A  \n",
      "2      13-Oct-25         Deneen Abrams    3012573260             N/A  \n",
      "3      29-Aug-27        David Abramson    4104586594             N/A  \n",
      "4            NaN           Lisa Ackley    4434749656             N/A  \n",
      "\n",
      "[5 rows x 23 columns]\n"
     ]
    }
   ],
   "source": [
    "volunteer_df.rename(columns={'VolId': 'id'}, inplace=True)\n",
    "\n",
    "print(volunteer_df.head())\n"
   ]
  },
  {
   "cell_type": "code",
   "execution_count": 12,
   "id": "4aaebb20",
   "metadata": {},
   "outputs": [
    {
     "name": "stdout",
     "output_type": "stream",
     "text": [
      "Comments data exported to 'volunteer_comments.csv'\n"
     ]
    }
   ],
   "source": [
    "# Split comments into a separate DataFrame\n",
    "comments_df = volunteer_df[['id', 'Comments', 'GeneralComments']].copy()\n",
    "\n",
    "\n",
    "# Include 'LastVolEvent' in the comments DataFrame\n",
    "comments_df['LastVolEvent'] = volunteer_df['LastVolEvent']\n",
    "\n",
    "# Drop 'LastVolEvent' from the main DataFrame\n",
    "final_df = volunteer_df.drop(columns=['Comments', 'GeneralComments', 'LastVolEvent'])\n",
    "comments_df.to_csv('volunteer_comments.csv', index=False)\n",
    "print(\"Comments data exported to 'volunteer_comments.csv'\")"
   ]
  },
  {
   "cell_type": "code",
   "execution_count": 13,
   "id": "978e37da",
   "metadata": {},
   "outputs": [
    {
     "name": "stdout",
     "output_type": "stream",
     "text": [
      "\n"
     ]
    }
   ],
   "source": [
    "final_df.to_csv('final_volunteer_data.csv', index=False)\n",
    "print(\\\n",
    ")"
   ]
  },
  {
   "cell_type": "code",
   "execution_count": 15,
   "id": "70e727d6",
   "metadata": {},
   "outputs": [
    {
     "name": "stdout",
     "output_type": "stream",
     "text": [
      "Loaded 2439 volunteers from final_volunteer_data.csv\n",
      "Loaded 2439 volunteer comment records\n"
     ]
    },
    {
     "name": "stderr",
     "output_type": "stream",
     "text": [
      "/var/folders/22/pyf345gx7vl1vj4s17fmyrcc0000gn/T/ipykernel_10898/537823368.py:40: UserWarning: Could not infer format, so each element will be parsed individually, falling back to `dateutil`. To ensure parsing is consistent and as-expected, please specify a format.\n",
      "  volunteers_df[col] = pd.to_datetime(volunteers_df[col], errors='coerce')\n"
     ]
    },
    {
     "name": "stdout",
     "output_type": "stream",
     "text": [
      "Created nested JSON file: volunteers_nested.json with 2439 volunteers\n",
      "\n",
      "Sample of first volunteer in nested JSON:\n",
      "{\n",
      "    \"id\": 1970,\n",
      "    \"Active\": true,\n",
      "    \"OneDayEvent\": false,\n",
      "    \"LastContact\": \"04/08/2017\",\n",
      "    \"AttendedOrientation\": \"04/07/2014\",\n",
      "    \"Last\": \"+\",\n",
      "    \"First\": \"Carla\",\n",
      "    \"Street\": \"7001 Glorious Light Place\",\n",
      "    \"City\": \"Columbia\",\n",
      "    \"State\": \"MD\",\n",
      "    \"ZipCode\": \"21044\",\n",
      "    \"dateOfBirth\": \"10/25/1964\",\n",
      "    \"email\": \"royalty2001@yahoo.com\",\n",
      "    \"ApplicationDate\": \"04/07/2014\",\n",
      "    \"LastVolDate\": \"\",\n",
      "    \"Classification\": NaN,\n",
      "    \"PBC Expir Date\": \"\",\n",
      "    \"name\": \"Carla +\",\n",
      "    \"primary_phone\": \"4109782947\",\n",
      "    \"secondary_phone\": \"\",\n",
      "    \"comments\": {\n",
      "        \"Comments\": \"\",\n",
      "        \"GeneralComments\": \"\",\n",
      "        \"LastVolEvent\": \"\"\n",
      "    }\n",
      "}\n"
     ]
    }
   ],
   "source": [
    "import json\n",
    "import pandas as pd\n",
    "import numpy as np\n",
    "\n",
    "# Function to fix phone numbers (convert floats to strings without decimals)\n",
    "def fix_phone_format(value):\n",
    "    if pd.isna(value):\n",
    "        return \"\"\n",
    "\n",
    "    if isinstance(value, (int, float)):\n",
    "        # Convert to int first to remove .0, then to string\n",
    "        return str(int(value))\n",
    "    return str(value)\n",
    "\n",
    "# Custom JSON serializer to handle different types\n",
    "def custom_json_serializer(obj):\n",
    "    if pd.isna(obj) or obj is pd.NaT:  # Check for NaN/NaT first\n",
    "        return \"\"\n",
    "    elif isinstance(obj, (np.integer)):\n",
    "        return int(obj)\n",
    "    elif isinstance(obj, (np.floating)):\n",
    "        # NaN is already handled by the pd.isna() check above.\n",
    "        # This branch is for actual float numbers.\n",
    "        return str(int(obj)) if obj.is_integer() else str(obj)\n",
    "    elif isinstance(obj, np.ndarray):\n",
    "        return obj.tolist()\n",
    "    elif isinstance(obj, (pd.Timestamp)):\n",
    "        return obj.strftime('%m/%d/%Y') # Format dates as MM/DD/YYYY\n",
    "    return obj\n",
    "\n",
    "# Load the processed volunteer data\n",
    "try:\n",
    "    volunteers_df = pd.read_csv('final_volunteer_data.csv', encoding='latin1')\n",
    "    print(f\"Loaded {len(volunteers_df)} volunteers from final_volunteer_data.csv\")\n",
    "\n",
    "    # Convert relevant date columns to datetime objects for proper serialization\n",
    "    date_columns_to_parse = ['ApplicationDate', 'LastVolDate', 'LastContact', 'AttendedOrientation', 'PBC Expir Date']\n",
    "    for col in date_columns_to_parse:\n",
    "        if col in volunteers_df.columns:\n",
    "            volunteers_df[col] = pd.to_datetime(volunteers_df[col], errors='coerce')\n",
    "            # The custom_json_serializer will handle formatting Timestamps to MM-DD-YYYY\n",
    "            # and NaT (from errors='coerce') to \"\"\n",
    "except FileNotFoundError:\n",
    "    print(\"Error: final_volunteer_data.csv not found\")\n",
    "    volunteers_df = pd.DataFrame()\n",
    "\n",
    "# Fix phone numbers in volunteers dataframe\n",
    "if not volunteers_df.empty:\n",
    "    if 'primary_phone' in volunteers_df.columns:\n",
    "        volunteers_df['primary_phone'] = volunteers_df['primary_phone'].apply(fix_phone_format)\n",
    "    if 'secondary_phone' in volunteers_df.columns:\n",
    "        volunteers_df['secondary_phone'] = volunteers_df['secondary_phone'].apply(fix_phone_format)\n",
    "\n",
    "# Load the volunteer comments data\n",
    "try:\n",
    "    volunteer_comments_df = pd.read_csv('volunteer_comments.csv', encoding='latin1')\n",
    "    print(f\"Loaded {len(volunteer_comments_df)} volunteer comment records\")\n",
    "    # Replace all NaN values in the comments DataFrame with empty strings\n",
    "    volunteer_comments_df = volunteer_comments_df.fillna(\"\")\n",
    "except FileNotFoundError:\n",
    "    print(\"Warning: volunteer_comments.csv not found\")\n",
    "    volunteer_comments_df = pd.DataFrame().fillna(\"\") # Ensure empty df also has no NaNs if used later\n",
    "\n",
    "# Create a nested JSON structure for volunteers\n",
    "nested_volunteers = []\n",
    "\n",
    "if not volunteers_df.empty:\n",
    "    for _, volunteer in volunteers_df.iterrows():\n",
    "        volunteer_id = volunteer['id']\n",
    "        volunteer_dict = volunteer.to_dict()\n",
    "        \n",
    "        # Add comments if available\n",
    "        if not volunteer_comments_df.empty and 'id' in volunteer_comments_df.columns:\n",
    "            comment_records = volunteer_comments_df[volunteer_comments_df['id'] == volunteer_id]\n",
    "            if not comment_records.empty:\n",
    "                # Convert all columns except 'id' to a dictionary\n",
    "                comment_info = comment_records.drop(columns=['id']).iloc[0].to_dict()\n",
    "                volunteer_dict['comments'] = comment_info\n",
    "        \n",
    "        nested_volunteers.append(volunteer_dict)\n",
    "\n",
    "# Write the nested data to a JSON file\n",
    "json_file_path = 'volunteers_nested.json'\n",
    "with open(json_file_path, 'w') as f:\n",
    "    json.dump(nested_volunteers, f, indent=4, default=custom_json_serializer)\n",
    "\n",
    "print(f\"Created nested JSON file: {json_file_path} with {len(nested_volunteers)} volunteers\")\n",
    "\n",
    "# Display a sample of the nested data if available\n",
    "if nested_volunteers:\n",
    "    print(\"\\nSample of first volunteer in nested JSON:\")\n",
    "    print(json.dumps(nested_volunteers[0], indent=4, default=custom_json_serializer))\n",
    "else:\n",
    "    print(\"No volunteers to include in nested JSON\")"
   ]
  }
 ],
 "metadata": {
  "kernelspec": {
   "display_name": "etl_env",
   "language": "python",
   "name": "python3"
  },
  "language_info": {
   "codemirror_mode": {
    "name": "ipython",
    "version": 3
   },
   "file_extension": ".py",
   "mimetype": "text/x-python",
   "name": "python",
   "nbconvert_exporter": "python",
   "pygments_lexer": "ipython3",
   "version": "3.12.0"
  }
 },
 "nbformat": 4,
 "nbformat_minor": 5
}
